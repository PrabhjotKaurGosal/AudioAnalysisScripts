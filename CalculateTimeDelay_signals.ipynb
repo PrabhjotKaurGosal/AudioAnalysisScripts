{
 "cells": [
  {
   "cell_type": "markdown",
   "id": "26043658",
   "metadata": {},
   "source": [
    "# This file presents methods for finding the time delaye between two signals using cross correlation "
   ]
  },
  {
   "cell_type": "markdown",
   "id": "39482647",
   "metadata": {},
   "source": [
    "### Helpful Resources\n",
    "https://en.wikipedia.org/wiki/Cross-correlation\n",
    "\n",
    "https://docs.scipy.org/doc/scipy/reference/generated/scipy.signal.correlate.html"
   ]
  },
  {
   "cell_type": "code",
   "execution_count": 1,
   "id": "a151112b",
   "metadata": {},
   "outputs": [],
   "source": [
    "import numpy as np\n",
    "import pandas as pd\n",
    "import matplotlib.pyplot as plt\n",
    "from glob import glob\n",
    "import librosa as lr\n",
    "from scipy import signal"
   ]
  },
  {
   "cell_type": "code",
   "execution_count": 2,
   "id": "7b4e8715",
   "metadata": {},
   "outputs": [],
   "source": [
    "# Read the audio files\n",
    "ch1, sfreq = lr.load('ch1_RawSound_JULY22.wav') # sfreq is the sampling frequency at which the signal is sampled\n",
    "ch2, sfreq = lr.load('ch2_RawSound_JULY22.wav')\n",
    "ch3, sfreq = lr.load('ch3_RawSound_JULY22.wav')"
   ]
  },
  {
   "cell_type": "code",
   "execution_count": 3,
   "id": "e620a50c",
   "metadata": {},
   "outputs": [
    {
     "name": "stdout",
     "output_type": "stream",
     "text": [
      "The signal y2 lags behind signal y1\n",
      "The lag between two signals is:  -6\n",
      "The corresponding time delay between the signals is:  -0.00027210884353741496 seconds\n"
     ]
    }
   ],
   "source": [
    "# Method 1: Calculate the time delay between two signals\n",
    "\n",
    "y1 = ch1\n",
    "y2 = ch2\n",
    "\n",
    "correlation = signal.correlate(y1, y2, mode=\"full\")\n",
    "lags = signal.correlation_lags(y1.size, y2.size, mode=\"full\")\n",
    "lag = lags[np.argmax(correlation)]\n",
    "\n",
    "if lag<0:\n",
    "    print(\"The signal y2 lags behind signal y1\")\n",
    "elif lag>=0:\n",
    "    print(\"The signal y2 leads signal y1\")\n",
    "else:\n",
    "    print(\"The lag is Zero between the two signals\")\n",
    "    \n",
    "print(\"The lag between two signals is: \",lag)\n",
    "print(\"The corresponding time delay between the signals is: \", lag/sfreq, \"seconds\")"
   ]
  },
  {
   "cell_type": "markdown",
   "id": "e2145134",
   "metadata": {},
   "source": [
    "##### Note: The lag/delay is given with respect to the second signal in the argument of correlate(y1,y2). It tells how mcuh y2 is lagging(if lag is negative) / leading (if lag is positive) with respect to y1"
   ]
  },
  {
   "cell_type": "code",
   "execution_count": 4,
   "id": "ccc5f4a1",
   "metadata": {},
   "outputs": [
    {
     "name": "stdout",
     "output_type": "stream",
     "text": [
      "y2 is -0.00027211507627467046 behind y1\n"
     ]
    },
    {
     "data": {
      "image/png": "[encoded data removed]",
      "text/plain": [
       "<Figure size 432x288 with 1 Axes>"
      ]
     },
     "metadata": {
      "needs_background": "light"
     },
     "output_type": "display_data"
    },
    {
     "name": "stdout",
     "output_type": "stream",
     "text": [
      "The time delay is:  -0.00027211507627467046\n"
     ]
    }
   ],
   "source": [
    "# Method 2: Calculate the time delay between two signals\n",
    "\n",
    "def lag_finder(y1, y2, sr):\n",
    "    n = len(y1)\n",
    "\n",
    "    #corr = signal.correlate(y2, y1, mode='same') / np.sqrt(signal.correlate(y1, y1, mode='same')[int(n/2)] * signal.correlate(y2, y2, mode='same')[int(n/2)])\n",
    "    corr = signal.correlate(y1, y2, mode='same') \n",
    "    \n",
    "    delay_arr = np.linspace(-0.5*n/sr, 0.5*n/sr, n)\n",
    "    delay = delay_arr[np.argmax(corr)]\n",
    "    print('y2 is ' + str(delay) + ' behind y1')\n",
    "\n",
    "    plt.figure()\n",
    "    plt.plot(delay_arr, corr)\n",
    "    plt.title('Lag: ' + str(np.round(delay, 3)) + ' s')\n",
    "    plt.xlabel('Lag')\n",
    "    plt.ylabel('Correlation coeff')\n",
    "    plt.show()\n",
    "    \n",
    "    return delay\n",
    "\n",
    "\n",
    "time_delay = lag_finder(y1,  y2, sfreq)\n",
    "print(\"The time delay is: \", time_delay)"
   ]
  }
 ],
 "metadata": {
  "kernelspec": {
   "display_name": "Python 3 (ipykernel)",
   "language": "python",
   "name": "python3"
  },
  "language_info": {
   "codemirror_mode": {
    "name": "ipython",
    "version": 3
   },
   "file_extension": ".py",
   "mimetype": "text/x-python",
   "name": "python",
   "nbconvert_exporter": "python",
   "pygments_lexer": "ipython3",
   "version": "3.8.10"
  }
 },
 "nbformat": 4,
 "nbformat_minor": 5
}
